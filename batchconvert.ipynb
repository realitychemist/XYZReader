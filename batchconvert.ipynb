{
 "cells": [
  {
   "cell_type": "code",
   "execution_count": 1,
   "metadata": {
    "collapsed": true,
    "ExecuteTime": {
     "start_time": "2023-07-17T16:46:21.995755Z",
     "end_time": "2023-07-17T16:46:22.128279Z"
    }
   },
   "outputs": [],
   "source": [
    "from abtem_scripts.graphical import gui_get_path\n",
    "import XYZReader as xyz"
   ]
  },
  {
   "cell_type": "code",
   "execution_count": 4,
   "outputs": [
    {
     "name": "stdout",
     "output_type": "stream",
     "text": [
      "['0: bto_120_topcluster', '1: bto_160_topcluster', '2: bto_200_topcluster', '3: bto_240_topcluster', '4: bto_280_topcluster', '5: bto_40_topcluster', '6: bto_80_topcluster', '7: bzo_120_topcluster', '8: bzo_160_topcluster', '9: bzo_200_topcluster', '10: bzo_240_topcluster', '11: bzo_280_topcluster', '12: bzo_40_topcluster', '13: bzo_80_topcluster', '14: bzt_120_topcluster_Ti', '15: bzt_120_topcluster_Zr', '16: bzt_120_topcluster_Zr_v2', '17: bzt_160_topcluster_Ti', '18: bzt_160_topcluster_Zr', '19: bzt_200_topcluster_Ti', '20: bzt_200_topcluster_Zr', '21: bzt_20_topcluster_Zr_v2', '22: bzt_240_topcluster_Ti', '23: bzt_240_topcluster_Zr', '24: bzt_280_topcluster_Ti', '25: bzt_280_topcluster_Zr', '26: bzt_40_topcluster_Ti', '27: bzt_40_topcluster_Zr', '28: bzt_40_topcluster_Zr_v2', '29: bzt_80_topcluster_Ti', '30: bzt_80_topcluster_Zr', '31: bzt_80_topcluster_Zr_v2']\n"
     ]
    }
   ],
   "source": [
    "source_path = gui_get_path(is_file=False)\n",
    "file_list = sorted(source_path.glob(\"*.xyz\"))  # Skips subdirectories; use the glob \"**/*.xyz\" to include subdirectories\n",
    "print([f\"{i}: {f.stem}\" for i, f in enumerate(file_list)])"
   ],
   "metadata": {
    "collapsed": false,
    "ExecuteTime": {
     "start_time": "2023-07-17T16:48:06.422401Z",
     "end_time": "2023-07-17T16:48:08.246724Z"
    }
   }
  },
  {
   "cell_type": "code",
   "execution_count": 5,
   "outputs": [
    {
     "name": "stdout",
     "output_type": "stream",
     "text": [
      "[WindowsPath('C:/Users/charles/Documents/GitHub/abtem_scripts/_output/bzt_clustering/models/xyz/bzt_120_topcluster_Zr_v2.xyz'), WindowsPath('C:/Users/charles/Documents/GitHub/abtem_scripts/_output/bzt_clustering/models/xyz/bzt_20_topcluster_Zr_v2.xyz'), WindowsPath('C:/Users/charles/Documents/GitHub/abtem_scripts/_output/bzt_clustering/models/xyz/bzt_40_topcluster_Zr_v2.xyz'), WindowsPath('C:/Users/charles/Documents/GitHub/abtem_scripts/_output/bzt_clustering/models/xyz/bzt_80_topcluster_Zr_v2.xyz')]\n"
     ]
    }
   ],
   "source": [
    "sub_idx = [16, 21, 28, 31]\n",
    "file_list_subset = []\n",
    "for idx in sub_idx:\n",
    "    file_list_subset.append(file_list[idx])\n",
    "print(file_list_subset)"
   ],
   "metadata": {
    "collapsed": false,
    "ExecuteTime": {
     "start_time": "2023-07-17T16:48:09.831705Z",
     "end_time": "2023-07-17T16:48:09.879704Z"
    }
   }
  },
  {
   "cell_type": "code",
   "execution_count": 6,
   "outputs": [
    {
     "name": "stdout",
     "output_type": "stream",
     "text": [
      "Reading XYZ file which has the comment string: \n",
      "\n",
      "Reading XYZ file which has the comment string: \n",
      "\n",
      "Reading XYZ file which has the comment string: \n",
      "\n",
      "Reading XYZ file which has the comment string: \n",
      "\n"
     ]
    }
   ],
   "source": [
    "output_path = gui_get_path(is_file=False)\n",
    "for file, tks in zip(file_list_subset, [120, 20, 40, 80]):  # NOTE: UPDATE THIS MANUALLY EACH TIME!!\n",
    "    with open(file) as f:\n",
    "        model = xyz.read_xyz(f)\n",
    "        fname = file.stem + \".cel\"\n",
    "        xyz.write_cel(output_path / fname, model,\n",
    "                      uc_a=4.083, uc_b=4.083, uc_c=4.083,\n",
    "                      nuc_a=9, nuc_b=9, nuc_c=(int((tks // 4.083)) + 1),\n",
    "                      overwrite=True, deb_dict={\"Ba\": 0.00452,  # Gives proper B_iso units in DrProbe\n",
    "                                                \"Ti\": 0.00630,\n",
    "                                                \"Zr\": 0.00870,\n",
    "                                                \"O\":  0.00518})"
   ],
   "metadata": {
    "collapsed": false,
    "ExecuteTime": {
     "start_time": "2023-07-17T16:48:51.187234Z",
     "end_time": "2023-07-17T16:48:56.434826Z"
    }
   }
  },
  {
   "cell_type": "code",
   "execution_count": null,
   "outputs": [],
   "source": [],
   "metadata": {
    "collapsed": false
   }
  }
 ],
 "metadata": {
  "kernelspec": {
   "display_name": "Python 3",
   "language": "python",
   "name": "python3"
  },
  "language_info": {
   "codemirror_mode": {
    "name": "ipython",
    "version": 2
   },
   "file_extension": ".py",
   "mimetype": "text/x-python",
   "name": "python",
   "nbconvert_exporter": "python",
   "pygments_lexer": "ipython2",
   "version": "2.7.6"
  }
 },
 "nbformat": 4,
 "nbformat_minor": 0
}
